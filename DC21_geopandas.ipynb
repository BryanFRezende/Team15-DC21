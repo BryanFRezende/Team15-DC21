{
  "nbformat": 4,
  "nbformat_minor": 0,
  "metadata": {
    "colab": {
      "name": "DC21_geopandas.ipynb",
      "provenance": [],
      "collapsed_sections": [],
      "include_colab_link": true
    },
    "kernelspec": {
      "display_name": "Python 3",
      "name": "python3"
    }
  },
  "cells": [
    {
      "cell_type": "markdown",
      "metadata": {
        "id": "view-in-github",
        "colab_type": "text"
      },
      "source": [
        "<a href=\"https://colab.research.google.com/github/cmytelka/Team15-DC21/blob/main/DC21_geopandas.ipynb\" target=\"_parent\"><img src=\"https://colab.research.google.com/assets/colab-badge.svg\" alt=\"Open In Colab\"/></a>"
      ]
    },
    {
      "cell_type": "code",
      "metadata": {
        "colab": {
          "base_uri": "https://localhost:8080/"
        },
        "id": "Mv-gbYa7Hyfy",
        "outputId": "466f1817-aaef-4fd4-ba54-5ec88c6ce16f"
      },
      "source": [
        "from google.colab import drive\n",
        "drive.mount('/content/drive')"
      ],
      "execution_count": 1,
      "outputs": [
        {
          "output_type": "stream",
          "text": [
            "Mounted at /content/drive\n"
          ],
          "name": "stdout"
        }
      ]
    },
    {
      "cell_type": "code",
      "metadata": {
        "id": "TpHBH95cFR10"
      },
      "source": [
        "from pydrive.auth import GoogleAuth\n",
        "from pydrive.drive import GoogleDrive\n",
        "from google.colab import auth\n",
        "from oauth2client.client import GoogleCredentials\n",
        "\n",
        "auth.authenticate_user()\n",
        "gauth = GoogleAuth()\n",
        "gauth.credentials = GoogleCredentials.get_application_default()\n",
        "drive = GoogleDrive(gauth)"
      ],
      "execution_count": 2,
      "outputs": []
    },
    {
      "cell_type": "code",
      "metadata": {
        "id": "_f94daIiGN_l"
      },
      "source": [
        "downloaded = drive.CreateFile({'id':\"1clIR66eU7WI7cLgiXBw2Z90OFmoSXKxH\"})   # replace the id with id of file you want to access\n",
        "downloaded.GetContentFile('Data_Lv3_UMDOTS_Escooters.csv')        # replace the file name with your file\n",
        "\n",
        "import pandas as pd\n",
        "data = pd.read_csv('Data_Lv3_UMDOTS_Escooters.csv')\n",
        "data.head()"
      ],
      "execution_count": null,
      "outputs": []
    },
    {
      "cell_type": "code",
      "metadata": {
        "id": "OLOSjuhdYTr0"
      },
      "source": [
        "import pandas as pd\r\n",
        "data = pd.read_csv('/content/drive/MyDrive/DC21Dataset/Data_Lv3_UMDOTS_Escooters.csv')"
      ],
      "execution_count": null,
      "outputs": []
    },
    {
      "cell_type": "code",
      "metadata": {
        "id": "MEHsOp-6JTL6"
      },
      "source": [
        "#Cleaning process on original data\r\n",
        "data = data[(data['DISTANCE'] > 0.06) & (data['VEHICLE_TYPE'] == \"Scooter\")] #filter distance < 0.06 miles and for type scooter\r\n",
        "data = data[(data['DISTANCE'] < 43) & (data['DISTANCE'] < 3*data['MINUTES'])] #Filter for max distance 43 miles and 20 mph top speed\r\n",
        "data = data[(data['MINUTES'] >= 2) & (data['MINUTES'] <= 240)] #Filter for min duration 2 min and max duration 4 hours\r\n",
        "data.to_csv('/content/drive/MyDrive/DC21Dataset/clean_Veo_Data_DC21_v1.csv') #write out csv file\r\n"
      ],
      "execution_count": null,
      "outputs": []
    },
    {
      "cell_type": "code",
      "metadata": {
        "id": "hiQ02AKlnlvI"
      },
      "source": [
        "import pandas as pd\r\n",
        "dataClean = pd.read_csv('/content/drive/MyDrive/DC21Dataset/clean_Veo_Data_DC21_v1.csv')"
      ],
      "execution_count": 5,
      "outputs": []
    },
    {
      "cell_type": "code",
      "metadata": {
        "id": "d7YYaegqnu_P"
      },
      "source": [
        "#Clean Data working space\r\n",
        "\r\n",
        "dataClean2020 = dataClean[dataClean.CREATED.astype(str).str.startswith('2020')] #any timestamp that starts 2020 goes in the 2020 file\r\n",
        "dataClean2019 = dataClean[dataClean.CREATED.astype(str).str.startswith('2019')]\r\n",
        "\r\n",
        "\r\n",
        "#dataClean2019.to_csv('/content/drive/MyDrive/DC21Dataset/clean_Veo_Data_DC21_2019.csv') #write out csv file\r\n",
        "#dataClean2020.to_csv('/content/drive/MyDrive/DC21Dataset/clean_Veo_Data_DC21_2020.csv') #write out csv file"
      ],
      "execution_count": 6,
      "outputs": []
    },
    {
      "cell_type": "code",
      "metadata": {
        "id": "K2a-ju0M9Qux"
      },
      "source": [
        "#Working with 2019 & 2020 sets\r\n",
        "dataClean19 = pd.read_csv('/content/drive/MyDrive/DC21Dataset/clean_Veo_Data_DC21_2019.csv')\r\n",
        "dataClean20 = pd.read_csv('/content/drive/MyDrive/DC21Dataset/clean_Veo_Data_DC21_2020.csv')\r\n",
        "\r\n",
        "dataClean20OnCamp = dataClean20[(dataClean20['START LONG'] > -76.960037) & (dataClean20['START LONG'] < -76.9274) & \r\n",
        "                                (dataClean20['END LONG'] > -76.960037) & (dataClean20['END LONG'] < -76.9274) &\r\n",
        "                                (dataClean20['START LAT'] > 38.980971) & (dataClean20['START LAT'] < 39.007307) &\r\n",
        "                                (dataClean20['END LAT'] > 38.980971) & (dataClean20['END LAT'] < 39.007307)]\r\n",
        "dataClean19OnCamp = dataClean19[(dataClean19['START LONG'] > -76.960037) & (dataClean19['START LONG'] < -76.9274) & \r\n",
        "                                (dataClean19['END LONG'] > -76.960037) & (dataClean19['END LONG'] < -76.9274) &\r\n",
        "                                (dataClean19['START LAT'] > 38.980971) & (dataClean19['START LAT'] < 39.007307) &\r\n",
        "                                (dataClean19['END LAT'] > 38.980971) & (dataClean19['END LAT'] < 39.007307)]\r\n",
        "\r\n",
        "dataClean20OffCamp = dataClean20[(((dataClean20['START LONG'] < -76.960037) | (dataClean20['START LONG'] > -76.9274)) |\r\n",
        "                                  ((dataClean20['START LAT'] < 38.980971) | (dataClean20['START LAT'] > 39.007307))) &\r\n",
        "                                 (((dataClean20['END LONG'] < -76.960037) | (dataClean20['END LONG'] > -76.9274)) |\r\n",
        "                                  ((dataClean20['END LAT'] < 38.980971) | (dataClean20['END LAT'] > 39.007307)))]\r\n",
        "dataClean19OffCamp = dataClean19[(((dataClean19['START LONG'] < -76.960037) | (dataClean19['START LONG'] > -76.9274)) |\r\n",
        "                                  ((dataClean19['START LAT'] < 38.980971) | (dataClean19['START LAT'] > 39.007307))) &\r\n",
        "                                 (((dataClean19['END LONG'] < -76.960037) | (dataClean19['END LONG'] > -76.9274)) |\r\n",
        "                                  ((dataClean19['END LAT'] < 38.980971) | (dataClean19['END LAT'] > 39.007307)))]\r\n",
        "\r\n",
        "dataClean20Hybrid = dataClean20[~dataClean20.isin(dataClean20OnCamp)]\r\n",
        "dataClean20Hybrid = dataClean20Hybrid[~dataClean20.isin(dataClean20OffCamp)]\r\n",
        "dataClean20Hybrid = dataClean20Hybrid[dataClean20Hybrid['VEHICLE_TYPE'] == \"Scooter\"]\r\n",
        "\r\n",
        "dataClean19Hybrid = dataClean19[~dataClean19.isin(dataClean19OnCamp)]\r\n",
        "dataClean19Hybrid = dataClean19Hybrid[~dataClean19.isin(dataClean19OffCamp)]\r\n",
        "dataClean19Hybrid = dataClean19Hybrid[dataClean19Hybrid['VEHICLE_TYPE'] == \"Scooter\"]\r\n",
        "\r\n",
        "dataClean20On2Off = dataClean20Hybrid[(dataClean20Hybrid['START LONG'] > -76.960037) & (dataClean20Hybrid['START LONG'] < -76.9274) &\r\n",
        "                                      (dataClean20Hybrid['START LAT'] > 38.980971) & (dataClean20Hybrid['START LAT'] < 39.007307)]\r\n",
        "dataClean19On2Off = dataClean19Hybrid[(dataClean19Hybrid['START LONG'] > -76.960037) & (dataClean19Hybrid['START LONG'] < -76.9274) &\r\n",
        "                                      (dataClean19Hybrid['START LAT'] > 38.980971) & (dataClean19Hybrid['START LAT'] < 39.007307)]\r\n",
        "\r\n",
        "dataClean20Off2On = dataClean20Hybrid[(dataClean20Hybrid['END LONG'] > -76.960037) & (dataClean20Hybrid['END LONG'] < -76.9274) &\r\n",
        "                                      (dataClean20Hybrid['END LAT'] > 38.980971) & (dataClean20Hybrid['END LAT'] < 39.007307)]\r\n",
        "dataClean19Off2On = dataClean19Hybrid[(dataClean19Hybrid['END LONG'] > -76.960037) & (dataClean19Hybrid['END LONG'] < -76.9274) &\r\n",
        "                                      (dataClean19Hybrid['END LAT'] > 38.980971) & (dataClean19Hybrid['END LAT'] < 39.007307)]\r\n",
        "\r\n",
        "\r\n",
        "dataClean19OnCamp.to_csv('/content/drive/MyDrive/DC21Dataset/clean_Veo_Data_DC21_2019OnCamp.csv') #write out csv file\r\n",
        "dataClean20OnCamp.to_csv('/content/drive/MyDrive/DC21Dataset/clean_Veo_Data_DC21_2020OnCamp.csv') #write out csv file\r\n",
        "dataClean19OffCamp.to_csv('/content/drive/MyDrive/DC21Dataset/clean_Veo_Data_DC21_2019OffCamp.csv') #write out csv file\r\n",
        "dataClean20OffCamp.to_csv('/content/drive/MyDrive/DC21Dataset/clean_Veo_Data_DC21_2020OffCamp.csv') #write out csv file\r\n",
        "dataClean19Hybrid.to_csv('/content/drive/MyDrive/DC21Dataset/clean_Veo_Data_DC21_2019Hybrid.csv') #write out csv file\r\n",
        "dataClean20Hybrid.to_csv('/content/drive/MyDrive/DC21Dataset/clean_Veo_Data_DC21_2020Hybrid.csv') #write out csv file\r\n",
        "#dataClean20On2Off.to_csv('/content/drive/MyDrive/DC21Dataset/clean_Veo_Data_DC21_2020On2Off.csv') #write out csv file\r\n",
        "#dataClean19On2Off.to_csv('/content/drive/MyDrive/DC21Dataset/clean_Veo_Data_DC21_2019On2Off.csv') #write out csv file\r\n",
        "#dataClean20Off2On.to_csv('/content/drive/MyDrive/DC21Dataset/clean_Veo_Data_DC21_2020Off2On.csv') #write out csv file\r\n",
        "#dataClean19Off2On.to_csv('/content/drive/MyDrive/DC21Dataset/clean_Veo_Data_DC21_2019Off2On.csv') #write out csv file"
      ],
      "execution_count": null,
      "outputs": []
    },
    {
      "cell_type": "code",
      "metadata": {
        "id": "VJu15Ldx_IX4"
      },
      "source": [
        "#Using dictionaries to count repeat customers\r\n",
        "newDict = dict()\r\n",
        "\r\n",
        "for i in dataClean20OffCamp['CUSTOMER_ID']:\r\n",
        "  x = i\r\n",
        "  y = str(x)\r\n",
        "  if y in newDict.keys():\r\n",
        "    newDict[y] = newDict[y]+1\r\n",
        "  else:\r\n",
        "    newDict[y] = 1\r\n",
        "\r\n",
        "#newDict\r\n",
        "newList = list(newDict.values())\r\n",
        "newList.sort()\r\n",
        "newList.reverse()\r\n",
        "#count = 0\r\n",
        "for i in range(0,102):\r\n",
        "  print(newList.count(i))\r\n",
        "  #count = count + newList.count(i)"
      ],
      "execution_count": null,
      "outputs": []
    },
    {
      "cell_type": "code",
      "metadata": {
        "id": "Wvn89aZq3KGX"
      },
      "source": [
        "# Important library for many geopython libraries\n",
        "#!apt install gdal-bin python-gdal python3-gdal \n",
        "# Install rtree - Geopandas requirment\n",
        "#!apt install python3-rtree \n",
        "# Install Geopandas\n",
        "!pip install git+git://github.com/geopandas/geopandas.git\n",
        "# Install descartes - Geopandas requirment\n",
        "#!pip install descartes \n",
        "# Install Folium for Geographic data visualization\n",
        "#!pip install folium\n",
        "# Install plotlyExpress\n",
        "#!pip install plotly_express"
      ],
      "execution_count": null,
      "outputs": []
    },
    {
      "cell_type": "code",
      "metadata": {
        "id": "1fB33-7240Ix"
      },
      "source": [
        "import numpy as np\n",
        "import geopandas as gpd\n",
        "from shapely.geometry import Point\n",
        "import matplotlib\n",
        "import matplotlib.pyplot as plt \n",
        "import folium"
      ],
      "execution_count": null,
      "outputs": []
    },
    {
      "cell_type": "code",
      "metadata": {
        "id": "6Q-Xh5mj8eyu"
      },
      "source": [
        "df = gpd.read_file('/content/drive/MyDrive/Maryland_Campus_Facilities_-_UMD_Administrative_Boundary')\n",
        "\n",
        "#!pip install contextily\n",
        "import contextily as ctx\n",
        "ax = df.plot(figsize=(10, 10), alpha=0.3, edgecolor='k')\n",
        "umd = ctx.add_basemap(ax)"
      ],
      "execution_count": null,
      "outputs": []
    },
    {
      "cell_type": "code",
      "metadata": {
        "id": "cOu2JRla02KT"
      },
      "source": [
        "!pip install geoplot"
      ],
      "execution_count": null,
      "outputs": []
    },
    {
      "cell_type": "code",
      "metadata": {
        "id": "lVmrhtyFWUH-"
      },
      "source": [
        "#onCamp20 = pd.read_csv('/content/drive/MyDrive/DC21Dataset/clean_Veo_Data_DC21_2020OnCamp.csv')\n",
        "#offCamp20 = pd.read_csv('/content/drive/MyDrive/DC21Dataset/clean_Veo_Data_DC21_2020OffCamp.csv')\n",
        "#hybrid20 = pd.read_csv('/content/drive/MyDrive/DC21Dataset/clean_Veo_Data_DC21_2020Hybrid.csv')\n",
        "#onCamp19 = pd.read_csv('/content/drive/MyDrive/DC21Dataset/clean_Veo_Data_DC21_2019OnCamp.csv')\n",
        "#offCamp19 = pd.read_csv('/content/drive/MyDrive/DC21Dataset/clean_Veo_Data_DC21_2019OffCamp.csv')\n",
        "#hybrid19 = pd.read_csv('/content/drive/MyDrive/DC21Dataset/clean_Veo_Data_DC21_2019Hybrid.csv')\n",
        "\n",
        "#onCamp20 = onCamp20['PATH']\n",
        "#offCamp20 = offCamp20['PATH']\n",
        "#hybrid20 = hybrid20['PATH']\n",
        "#onCamp19 = onCamp19['PATH']\n",
        "#offCamp19 = offCamp19['PATH']\n",
        "#hybrid19 = hybrid19['PATH']\n",
        "\n",
        "import json\n",
        "from tqdm import tqdm\n",
        "\n",
        "for i in range(len(hybrid19)):\n",
        "  hybrid19[i] = json.loads(hybrid19[i])\n",
        "\n",
        "geo = gpd.GeoDataFrame(hybrid19)\n",
        "\n",
        "fig = plt.figure(figsize=(15,15))\n",
        "ax = fig.add_subplot()\n",
        "\n",
        "lon = []\n",
        "lat = []\n",
        "for i in tqdm(range(len(geo))):\n",
        "  newRide = geo.iloc[i][0]\n",
        "  #print(newRide)\n",
        "  #print(newRide['coordinates'][0])\n",
        "  for n in newRide['coordinates']:\n",
        "    lon.append(n[0])\n",
        "    lat.append(n[1])\n",
        "  newGeoFrame = gpd.GeoDataFrame(geo.iloc[i][0], geometry = gpd.points_from_xy(lon, lat))\n",
        "  newGeoFrame.plot(ax=ax, color='red', markersize=0.2)\n",
        "\n",
        "  lon.clear()\n",
        "  lat.clear()\n",
        "  if(i >400):\n",
        "    break\n"
      ],
      "execution_count": null,
      "outputs": []
    }
  ]
}